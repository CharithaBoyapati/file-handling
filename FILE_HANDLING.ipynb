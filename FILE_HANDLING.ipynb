{
  "nbformat": 4,
  "nbformat_minor": 0,
  "metadata": {
    "colab": {
      "private_outputs": true,
      "provenance": []
    },
    "kernelspec": {
      "name": "python3",
      "display_name": "Python 3"
    },
    "language_info": {
      "name": "python"
    }
  },
  "cells": [
    {
      "cell_type": "code",
      "execution_count": null,
      "metadata": {
        "id": "yKlldcsx7a0i"
      },
      "outputs": [],
      "source": []
    },
    {
      "cell_type": "markdown",
      "source": [
        " 1. What is the difference between interpreted and compiled languages\n",
        "    - Compiled languages execute pre-translated machine code, while interpreted languages execute code line by line at runtime.\n",
        " 2.  What is exception handling in Python\n",
        "    -  Exception handling in Python is a way to manage errors that occur during program execution, preventing crashes and allowing for graceful recovery.\n",
        " 3.   What is the purpose of the finally block in exception handling\n",
        "    - The purpose of the finally block in exception handling is to execute cleanup code that needs to run regardless of whether an exception occurred or not. It's typically used to release resources like closing files or releasing locks, ensuring proper cleanup even if errors are raised during the try block.\n",
        " 4. What is logging in Python\n",
        "     - Logging in Python is the process of recording events, errors, warnings, and informational messages during program execution. It helps developers monitor, debug, and maintain applications by providing a structured way to track what happens while the code runs. Python’s logging module offers flexible tools to create, manage, and format logs at different levels of severity.\n",
        " 5.  What is the significance of the __del__ method in Python\n",
        "     - The __del__ method in Python is a destructor method that is called when an object is about to be destroyed or garbage collected. Its main significance is to perform cleanup actions, such as releasing resources (files, network connections) before the object is removed from memory. However, reliance on __del__ can be tricky due to unpredictable garbage collection timing, so it's often better to use context managers.\n",
        " 6.  What is the difference between import and from ... import in Python\n",
        "     - import: Loads the entire module; access functions or variables with module_name.function_name.\n",
        "     - from ... import: Imports specific components (functions, classes, variables) directly into the current namespace, allowing direct use without prefixing with the module name.\n",
        " 7.  How can you handle multiple exceptions in Python\n",
        "     - You can handle multiple exceptions in Python by specifying multiple exception types in a single except clause using a tuple\n",
        " 8.  What is the purpose of the with statement when handling files in Python\n",
        "     - The with statement simplifies file handling by automatically managing resource cleanup. When used with files, it ensures the file is properly closed automatically, even if an error occurs, preventing resource leaks and making the code cleaner and safer.\n",
        " 9.  What is the difference between multithreading and multiprocessing\n",
        "     -  Multithreading: Multiple threads run within a single process, sharing memory; suitable for I/O-bound tasks.\n",
        "     - Multiprocessing: Multiple processes run independently, each with its own memory space; ideal for CPU-bound tasks.\n",
        " 10.  What are the advantages of using logging in a program\n",
        "      - Debugging\n",
        "      - Monitoring\n",
        "      - Error tracking\n",
        "      - Auditing\n",
        " 11.  What is memory management in Python\n",
        "      - Memory management in Python refers to how the language handles allocation, deallocation, and organization of memory for objects during program execution. Python uses automatic memory management, primarily through reference counting and a garbage collector to free unused objects, ensuring efficient use of memory without explicit intervention by the programmer.\n",
        " 12.  What are the basic steps involved in exception handling in Python\n",
        "      -  try block: Write code that may raise an exception.\n",
        "      - except block: Handle specific exceptions if they occur.\n",
        "      - Optional else: Run code if no exceptions are raised.\n",
        "      - finally block: Execute cleanup code regardless of whether an exception occurred.\n",
        " 13.  Why is memory management important in Python\n",
        "      - Memory management is important in Python because it ensures efficient use of system resources, prevents memory leaks, and maintains the overall stability and performance of applications. Proper memory handling helps in managing the lifecycle of objects, avoiding crashes, and optimizing the program’s speed and responsiveness\n",
        " 14.  What is the role of try and except in exception handling\n",
        "      - The try block contains code that might raise an exception, while the except block specifies how to handle specific or general exceptions that occur within the try. Together, they enable graceful error handling, preventing program crashes and allowing for controlled recovery or informative error messages.\n",
        " 15.  How does Python's garbage collection system work\n",
        "       -  Python's garbage collection system primarily works through reference counting: each object has a count of references pointing to it, and when this count drops to zero, the object is immediately deallocated. Additionally, Python includes a cyclic garbage collector to detect and collect groups of objects involved in reference cycles that are no longer reachable, ensuring efficient memory cleanup even when objects reference each other.\n",
        " 16.  What is the purpose of the else block in exception handling\n",
        "      -  The else block in exception handling runs only if no exceptions are raised in the try block. Its purpose is to execute code that should run when the try succeeds without errors, often for actions dependent on the successful execution of the try block, keeping error handling and success logic separate for clearer code flow.\n",
        " 17.   What are the common logging levels in Python\n",
        "      - DEBUG\n",
        "      - INFO\n",
        "      - WARNING\n",
        "      - ERROR\n",
        "      - CRITICAL                             \n",
        " 18.   What is the difference between os.fork() and multiprocessing in Python\n",
        "      - os.fork() is lower-level, system-dependent, and more manual.\n",
        "      - multiprocessing offers a more user-friendly, cross-platform interface for parallel execution.\n",
        " 19.  What is the importance of closing a file in Python\n",
        "      -  Frees system resources\n",
        " 20.  What is the difference between file.read() and file.readline() in Python\n",
        "      - file.read(): Reads the entire file at once (or can specify a specific number of bytes).\n",
        "      - file.readline(): Reads one line each invocation, including the newline character at the end.  \n",
        " 21.  What is the logging module in Python used for\n",
        "      - The logging module in Python is used for tracking and recording events that happen during program execution.\n",
        " 22.  What is the os module in Python used for in file handling\n",
        "      -  Navigating directories (os.chdir(), os.getcwd())\n",
        "      - Creating, deleting, and renaming files and directories (os.remove(), os.mkdir(), os.rename())\n",
        "      - Checking file or directory existence and properties (os.path.exists(), os.path.getsize())\n",
        " 23.  What are the challenges associated with memory management in Python\n",
        "      -  Memory leaks\n",
        "      -  Memory growth\n",
        "      - Garbage collection overhead\n",
        "      - Handling large data\n",
        "      - Limited low-level control\n",
        " 24.  How do you raise an exception manually in Python\n",
        "      - In Python, you can manually raise an exception using the raise keyword. This is useful when you want to signal an error condition in your program.\n",
        " 25.  Why is it important to use multithreading in certain applications?\n",
        "     - Enhanced Performance: Multithreading enables parallel execution, making better use of CPU resources, especially on multi-core processors.\n",
        "\n",
        "     - Improved Responsiveness: In applications like GUIs, multithreading ensures that background tasks (e.g., data processing) don’t freeze the user interface.\n",
        "\n",
        "     - Efficient Resource Utilization: Threads share memory space, reducing overhead compared to creating separate processes.\n",
        "\n",
        "     - Better Handling of I/O Operations: Multithreading is useful for applications that involve network requests, file handling,                                                      \n",
        "\n",
        "      "
      ],
      "metadata": {
        "id": "H-6l6PJy7vCN"
      }
    },
    {
      "cell_type": "code",
      "source": [
        "PRATICAL QUESTIONS"
      ],
      "metadata": {
        "id": "PAHgu_u4lLCw"
      },
      "execution_count": null,
      "outputs": []
    },
    {
      "cell_type": "code",
      "source": [],
      "metadata": {
        "id": "aZLselfYlOin"
      },
      "execution_count": null,
      "outputs": []
    },
    {
      "cell_type": "code",
      "source": [
        "#1.  How can you open a file for writing in Python and write a string to it\n",
        "# Open a file in write mode\n",
        "with open(\"example.txt\", \"w\") as file:\n",
        "    file.write(\"Hello, Python!\")\n"
      ],
      "metadata": {
        "id": "A2KupyAVlO7c"
      },
      "execution_count": null,
      "outputs": []
    },
    {
      "cell_type": "code",
      "source": [],
      "metadata": {
        "id": "TBYW26YKl4W5"
      },
      "execution_count": null,
      "outputs": []
    },
    {
      "cell_type": "code",
      "source": [],
      "metadata": {
        "id": "4VUML0KlmKMX"
      },
      "execution_count": null,
      "outputs": []
    },
    {
      "cell_type": "code",
      "source": [
        "#2.  Write a Python program to read the contents of a file and print each line\n",
        "# Open the file in read mode\n",
        "with open(\"example.txt\", \"r\") as file:\n",
        "    # Read and print each line\n",
        "    for line in file:\n",
        "        print(line.strip())  # Removes extra newline characters\n"
      ],
      "metadata": {
        "id": "_fdF1hlzlbJv"
      },
      "execution_count": null,
      "outputs": []
    },
    {
      "cell_type": "code",
      "source": [
        "#3.  How would you handle a case where the file doesn't exist while trying to open it for reading\n",
        "try:\n",
        "    with open(\"non_existent_file.txt\", \"r\") as file:\n",
        "        content = file.read()\n",
        "        print(content)\n",
        "except FileNotFoundError:\n",
        "    print(\"Error: The file does not exist.\")\n"
      ],
      "metadata": {
        "id": "W9HszdoEln8h"
      },
      "execution_count": null,
      "outputs": []
    },
    {
      "cell_type": "code",
      "source": [
        "#4. Write a Python script that reads from one file and writes its content to another file\n",
        "# Open the source file in read mode and the destination file in write mode\n",
        "with open(\"source.txt\", \"r\") as source_file, open(\"destination.txt\", \"w\") as destination_file:\n",
        "    # Read content from source file and write it to destination file\n",
        "    for line in source_file:\n",
        "        destination_file.write(line)\n",
        "\n",
        "print(\"File copied successfully!\")\n"
      ],
      "metadata": {
        "id": "e8wRB_mSltVi"
      },
      "execution_count": null,
      "outputs": []
    },
    {
      "cell_type": "code",
      "source": [
        "#5. How would you catch and handle division by zero error in Python\n",
        "try:\n",
        "    result = 10 / 0  # This will cause a ZeroDivisionError\n",
        "except ZeroDivisionError:\n",
        "    print(\"Error: Division by zero is not allowed.\")\n"
      ],
      "metadata": {
        "id": "AaWFlkRqmOKW"
      },
      "execution_count": null,
      "outputs": []
    },
    {
      "cell_type": "code",
      "source": [
        "#6. Write a Python program that logs an error message to a log file when a division by zero exception occurs\n",
        "import logging\n",
        "\n",
        "# Configure logging to write to a file\n",
        "logging.basicConfig(filename=\"error.log\", level=logging.ERROR, format=\"%(asctime)s - %(levelname)s - %(message)s\")\n",
        "\n",
        "try:\n",
        "    result = 10 / 0  # This will cause a ZeroDivisionError\n",
        "except ZeroDivisionError as e:\n",
        "    logging.error(f\"Error: {e}\")  # Log the error message\n",
        "\n",
        "print(\"Error logged successfully!\")\n"
      ],
      "metadata": {
        "id": "DUXeRYc2mV5E"
      },
      "execution_count": null,
      "outputs": []
    },
    {
      "cell_type": "code",
      "source": [
        "#7. How do you log information at different levels (INFO, ERROR, WARNING) in Python using the logging module\n",
        "import logging\n",
        "\n",
        "# Configure logging\n",
        "logging.basicConfig(level=logging.DEBUG, format=\"%(levelname)s: %(message)s\")\n",
        "\n",
        "# Logging messages at different levels\n",
        "logging.debug(\"This is a DEBUG message\")\n",
        "logging.info(\"This is an INFO message\")\n",
        "logging.warning(\"This is a WARNING message\")\n",
        "logging.error(\"This is an ERROR message\")\n",
        "logging.critical(\"This is a CRITICAL message\")\n"
      ],
      "metadata": {
        "id": "8Wh5zH4JmdvZ"
      },
      "execution_count": null,
      "outputs": []
    },
    {
      "cell_type": "code",
      "source": [
        "#8. Write a program to handle a file opening error using exception handling\n",
        "try:\n",
        "    with open(\"non_existent_file.txt\", \"r\") as file:\n",
        "        content = file.read()\n",
        "        print(content)\n",
        "except FileNotFoundError:\n",
        "    print(\"Error: The file does not exist.\")\n",
        "except IOError:\n",
        "    print(\"Error: An issue occurred while accessing the file.\")\n"
      ],
      "metadata": {
        "id": "kLavuqkumkX-"
      },
      "execution_count": null,
      "outputs": []
    },
    {
      "cell_type": "code",
      "source": [
        "#9. How can you read a file line by line and store its content in a list in Python\n",
        "# Open the file and read lines into a list\n",
        "with open(\"example.txt\", \"r\") as file:\n",
        "    lines = [line.strip() for line in file]  # Removes newline characters\n",
        "\n",
        "print(lines)  # Output the list\n"
      ],
      "metadata": {
        "id": "lxIZ7PeAmrNn"
      },
      "execution_count": null,
      "outputs": []
    },
    {
      "cell_type": "code",
      "source": [
        "#10. How can you append data to an existing file in Python\n",
        "# Open the file in append mode\n",
        "with open(\"example.txt\", \"a\") as file:\n",
        "    file.write(\"\\nThis is a new line of text.\")\n"
      ],
      "metadata": {
        "id": "IG3C05pqnAve"
      },
      "execution_count": null,
      "outputs": []
    },
    {
      "cell_type": "code",
      "source": [
        "#11.Write a Python program that uses a try-except block to handle an error when attempting to access a dictionary key that doesn't exist\n",
        "# Define a dictionary\n",
        "data = {\"name\": \"Alice\", \"age\": 25}\n",
        "\n",
        "try:\n",
        "    # Attempt to access a non-existent key\n",
        "    value = data[\"address\"]\n",
        "    print(value)\n",
        "except KeyError:\n",
        "    print(\"Error: The key does not exist in the dictionary.\")\n"
      ],
      "metadata": {
        "id": "kNkfgWYVnH-d"
      },
      "execution_count": null,
      "outputs": []
    },
    {
      "cell_type": "code",
      "source": [
        "#12. Write a program that demonstrates using multiple except blocks to handle different types of exceptions\n",
        "try:\n",
        "    # Attempting risky operations\n",
        "    num = int(input(\"Enter a number: \"))  # May cause ValueError\n",
        "    result = 10 / num  # May cause ZeroDivisionError\n",
        "    my_list = [1, 2, 3]\n",
        "    print(my_list[5])  # May cause IndexError\n",
        "\n",
        "except ValueError:\n",
        "    print(\"Error: Invalid input! Please enter a valid number.\")\n",
        "except ZeroDivisionError:\n",
        "    print(\"Error: Division by zero is not allowed.\")\n",
        "except IndexError:\n",
        "    print(\"Error: List index out of range.\")\n"
      ],
      "metadata": {
        "id": "PLIwcbFJnbkp"
      },
      "execution_count": null,
      "outputs": []
    },
    {
      "cell_type": "code",
      "source": [
        "#13. How would you check if a file exists before attempting to read it in Python\n",
        "import os\n",
        "\n",
        "file_path = \"example.txt\"\n",
        "\n",
        "if os.path.exists(file_path):\n",
        "    with open(file_path, \"r\") as file:\n",
        "        content = file.read()\n",
        "        print(content)\n",
        "else:\n",
        "    print(\"Error: The file does not exist.\")\n"
      ],
      "metadata": {
        "id": "JHjKSP30nqkK"
      },
      "execution_count": null,
      "outputs": []
    },
    {
      "cell_type": "code",
      "source": [
        "#14. Write a program that uses the logging module to log both informational and error messages\n",
        "import logging\n",
        "\n",
        "# Configure logging to write to a file\n",
        "logging.basicConfig(filename=\"app.log\", level=logging.DEBUG, format=\"%(asctime)s - %(levelname)s - %(message)s\")\n",
        "\n",
        "# Log an informational message\n",
        "logging.info(\"Application started successfully.\")\n",
        "\n",
        "try:\n",
        "    result = 10 / 0  # This will cause a ZeroDivisionError\n",
        "except ZeroDivisionError as e:\n",
        "    logging.error(f\"Error occurred: {e}\")\n",
        "\n",
        "logging.info(\"Application execution completed.\")\n"
      ],
      "metadata": {
        "id": "Dqw5i9XYn0en"
      },
      "execution_count": null,
      "outputs": []
    },
    {
      "cell_type": "code",
      "source": [
        "#15. Write a Python program that prints the content of a file and handles the case when the file is empty\n",
        "# Open the file in read mode\n",
        "with open(\"example.txt\", \"r\") as file:\n",
        "    content = file.read().strip()  # Read and remove extra whitespace\n",
        "\n",
        "    if content:  # Check if the file is not empty\n",
        "        print(content)\n",
        "    else:\n",
        "        print(\"The file is empty.\")\n"
      ],
      "metadata": {
        "id": "f1HIWITun-MT"
      },
      "execution_count": null,
      "outputs": []
    },
    {
      "cell_type": "code",
      "source": [
        "#16. Demonstrate how to use memory profiling to check the memory usage of a small program\n",
        "pip install memory_profiler\n",
        "from memory_profiler import profile\n",
        "\n",
        "@profile\n",
        "def my_function():\n",
        "    data = [i for i in range(100000)]  # Creates a large list\n",
        "    return sum(data)\n",
        "\n",
        "if __name__ == \"__main__\":\n",
        "    my_function()\n"
      ],
      "metadata": {
        "id": "h7sMbb7xoIdO"
      },
      "execution_count": null,
      "outputs": []
    },
    {
      "cell_type": "code",
      "source": [
        "#17. Write a Python program to create and write a list of numbers to a file, one number per line\n",
        "# Define a list of numbers\n",
        "numbers = [1, 2, 3, 4, 5]\n",
        "\n",
        "# Open the file in write mode\n",
        "with open(\"numbers.txt\", \"w\") as file:\n",
        "    for number in numbers:\n",
        "        file.write(f\"{number}\\n\")  # Write each number followed by a newline\n",
        "\n",
        "print(\"Numbers written to file successfully!\")\n"
      ],
      "metadata": {
        "id": "JcEKoNH5oZIO"
      },
      "execution_count": null,
      "outputs": []
    },
    {
      "cell_type": "code",
      "source": [
        "#18. How would you implement a basic logging setup that logs to a file with rotation after 1MB\n",
        "import logging\n",
        "from logging.handlers import RotatingFileHandler\n",
        "\n",
        "# Configure logging with rotation after 1MB\n",
        "logger = logging.getLogger(\"RotatingLogger\")\n",
        "logger.setLevel(logging.DEBUG)\n",
        "\n",
        "handler = RotatingFileHandler(\"app.log\", maxBytes=1_048_576, backupCount=5)  # 1MB limit, keep 5 backups\n",
        "formatter = logging.Formatter(\"%(asctime)s - %(levelname)s - %(message)s\")\n",
        "handler.setFormatter(formatter)\n",
        "\n",
        "logger.addHandler(handler)\n",
        "\n",
        "# Example log messages\n",
        "logger.info(\"Application started\")\n",
        "logger.warning(\"This is a warning message\")\n",
        "logger.error(\"An error occurred\")\n"
      ],
      "metadata": {
        "id": "D2wzYyXLok6i"
      },
      "execution_count": null,
      "outputs": []
    },
    {
      "cell_type": "code",
      "source": [
        "#19. Write a program that handles both IndexError and KeyError using a try-except block\n",
        "try:\n",
        "    # Attempting to access an invalid index in a list\n",
        "    my_list = [1, 2, 3]\n",
        "    print(my_list[5])  # This will cause IndexError\n",
        "\n",
        "    # Attempting to access a non-existent key in a dictionary\n",
        "    my_dict = {\"name\": \"Alice\", \"age\": 25}\n",
        "    print(my_dict[\"address\"])  # This will cause KeyError\n",
        "\n",
        "except IndexError:\n",
        "    print(\"Error: List index out of range.\")\n",
        "except KeyError:\n",
        "    print(\"Error: Dictionary key not found.\")\n"
      ],
      "metadata": {
        "id": "RusPWY_Mou8a"
      },
      "execution_count": null,
      "outputs": []
    },
    {
      "cell_type": "code",
      "source": [
        "#20. How would you open a file and read its contents using a context manager in Python\n",
        "with open(\"example.txt\", \"r\") as file:\n",
        "    for line in file:\n",
        "        print(line.strip())  # Removes extra newline characters\n"
      ],
      "metadata": {
        "id": "C_Pfh-Vbo4Qt"
      },
      "execution_count": null,
      "outputs": []
    },
    {
      "cell_type": "code",
      "source": [
        "#21. Write a Python program that reads a file and prints the number of occurrences of a specific word\n",
        "# Get file name and word from user\n",
        "file_name = input(\"Enter file name: \")\n",
        "word_to_search = input(\"Enter word to be searched: \")\n",
        "\n",
        "# Initialize word count\n",
        "word_count = 0\n",
        "\n",
        "try:\n",
        "    # Open file in read mode\n",
        "    with open(file_name, \"r\") as file:\n",
        "        for line in file:\n",
        "            words = line.split()  # Split line into words\n",
        "            word_count += words.count(word_to_search)  # Count occurrences\n",
        "\n",
        "    print(f\"Occurrences of '{word_to_search}': {word_count}\")\n",
        "\n",
        "except FileNotFoundError:\n",
        "    print(\"Error: The file does not exist.\")\n"
      ],
      "metadata": {
        "id": "s9JNkXWPpES7"
      },
      "execution_count": null,
      "outputs": []
    },
    {
      "cell_type": "code",
      "source": [
        "#22. How can you check if a file is empty before attempting to read its contents\n",
        "import os\n",
        "\n",
        "file_path = \"example.txt\"\n",
        "\n",
        "if os.path.exists(file_path) and os.path.getsize(file_path) == 0:\n",
        "    print(\"The file is empty.\")\n",
        "else:\n",
        "    print(\"The file has content.\")\n"
      ],
      "metadata": {
        "id": "i7VAgSqdpNSP"
      },
      "execution_count": null,
      "outputs": []
    },
    {
      "cell_type": "code",
      "source": [
        "#23. Write a Python program that writes to a log file when an error occurs during file handling.\n",
        "import logging\n",
        "\n",
        "# Configure logging to write to a file\n",
        "logging.basicConfig(filename=\"file_errors.log\", level=logging.ERROR, format=\"%(asctime)s - %(levelname)s - %(message)s\")\n",
        "\n",
        "try:\n",
        "    with open(\"non_existent_file.txt\", \"r\") as file:\n",
        "        content = file.read()\n",
        "        print(content)\n",
        "except FileNotFoundError as e:\n",
        "    logging.error(f\"Error: {e}\")\n",
        "    print(\"Error logged successfully!\")\n"
      ],
      "metadata": {
        "id": "jYmHakClpXLV"
      },
      "execution_count": null,
      "outputs": []
    }
  ]
}